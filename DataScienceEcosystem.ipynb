{
  "nbformat": 4,
  "nbformat_minor": 0,
  "metadata": {
    "colab": {
      "provenance": []
    },
    "kernelspec": {
      "name": "python3",
      "display_name": "Python 3"
    },
    "language_info": {
      "name": "python"
    }
  },
  "cells": [
    {
      "cell_type": "markdown",
      "source": [
        "# Data Science Tools and Ecosystem"
      ],
      "metadata": {
        "id": "jIsikJJWkuFQ"
      }
    },
    {
      "cell_type": "markdown",
      "source": [
        "In this notebook, Data Science Tools and Ecosystem are summarized."
      ],
      "metadata": {
        "id": "VEnj0EMek-bd"
      }
    },
    {
      "cell_type": "markdown",
      "source": [
        "**Objectives:**\n",
        "\n",
        "- Get acquainted with the basics of using Jupyter Notebook and its interface.\n",
        "- Learn how to create and organize notebooks, and run code within the Jupyter environment.\n",
        "- Explore how to integrate Jupyter Notebook with the R programming language for data analysis.\n"
      ],
      "metadata": {
        "id": "rNXkz5Azog3-"
      }
    },
    {
      "cell_type": "markdown",
      "source": [
        "Some of the popular languages that Data Scientists use are:\n",
        "1. Python\n",
        "2. R\n",
        "3. Java\n",
        "4. Scala"
      ],
      "metadata": {
        "id": "1-hMTlUHlSPN"
      }
    },
    {
      "cell_type": "markdown",
      "source": [
        "Some of the commonly used libraries used by Data Scientists include:\n",
        "\n",
        "- **Pandas** - A library for data manipulation and analysis, particularly useful for handling structured data.\n",
        "- **NumPy** - A fundamental package for numerical computing, providing support for arrays and matrices.\n",
        "- **Matplotlib** - A plotting library used for creating static, animated, and interactive visualizations in Python.\n"
      ],
      "metadata": {
        "id": "5cUsaci8lcvm"
      }
    },
    {
      "cell_type": "markdown",
      "source": [
        "| Data Science Tools           |\n",
        "|------------------------------|\n",
        "| Jupyter Notebook              |\n",
        "| RStudio                       |\n",
        "| Apache Zeppelin               |"
      ],
      "metadata": {
        "id": "dLfJ21lll_F9"
      }
    },
    {
      "cell_type": "markdown",
      "source": [
        "### Below are a few examples of evaluating arithmetic expressions in Python\n",
        "\n",
        "```python\n",
        "# Example 1: Addition\n",
        "result_add = 5 + 3  # Output: 8\n",
        "\n",
        "# Example 2: Subtraction\n",
        "result_sub = 10 - 4  # Output: 6\n",
        "\n",
        "# Example 3: Multiplication\n",
        "result_mul = 7 * 6  # Output: 42\n",
        "\n",
        "# Example 4: Division\n",
        "result_div = 20 / 4  # Output: 5.0\n"
      ],
      "metadata": {
        "id": "lC2761NZm6P1"
      }
    },
    {
      "cell_type": "code",
      "source": [
        "# This a simple arithmetic expression to mutiply then add integers.\n",
        "(3*4)+5"
      ],
      "metadata": {
        "colab": {
          "base_uri": "https://localhost:8080/"
        },
        "id": "x7jFKBGOnWND",
        "outputId": "b016de5f-0047-4dd3-8d49-ca26c62ead9e"
      },
      "execution_count": 2,
      "outputs": [
        {
          "output_type": "execute_result",
          "data": {
            "text/plain": [
              "17"
            ]
          },
          "metadata": {},
          "execution_count": 2
        }
      ]
    },
    {
      "cell_type": "code",
      "source": [
        "# This will convert 200 minutes to hours by dividing by 60.\n",
        "minutes = 200\n",
        "minutes / 60"
      ],
      "metadata": {
        "colab": {
          "base_uri": "https://localhost:8080/"
        },
        "id": "-cmqIJa7ngxt",
        "outputId": "c1db7a90-a28d-47e5-ac4d-f7e2cfeaaaa6"
      },
      "execution_count": 3,
      "outputs": [
        {
          "output_type": "execute_result",
          "data": {
            "text/plain": [
              "3.3333333333333335"
            ]
          },
          "metadata": {},
          "execution_count": 3
        }
      ]
    },
    {
      "cell_type": "markdown",
      "source": [
        "## Author M. Bike\n"
      ],
      "metadata": {
        "id": "pvq2D0B3nUl1"
      }
    }
  ]
}